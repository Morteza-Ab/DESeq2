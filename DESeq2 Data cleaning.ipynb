{
 "cells": [
  {
   "cell_type": "code",
   "execution_count": 2,
   "id": "62598d15",
   "metadata": {},
   "outputs": [],
   "source": [
    "import pandas as pd\n",
    "import numpy as np\n",
    "import matplotlib.pyplot as plt"
   ]
  },
  {
   "cell_type": "code",
   "execution_count": 3,
   "id": "58a344e4",
   "metadata": {},
   "outputs": [],
   "source": [
    "results_Eto_vs_CTRL = pd.read_excel(\"/Users/mortezaabyadeh/Desktop/results_Eto_vs_CTRL.xlsx\")\n",
    "results_FTY_vs_CTRL = pd.read_excel(\"/Users/mortezaabyadeh/Desktop/results_FTY_vs_CTRL.xlsx\")\n",
    "results_FTY_Eto_vs_CTRL = pd.read_excel(\"/Users/mortezaabyadeh/Desktop/results_FTY_Eto_vs_CTRL.xlsx\")\n",
    "results_FTY_vs_Eto = pd.read_excel(\"/Users/mortezaabyadeh/Desktop/results_FTY_vs_Eto.xlsx\")\n",
    "results_FTY_Eto_vs_Eto = pd.read_excel(\"/Users/mortezaabyadeh/Desktop/results_FTY_Eto_vs_Eto.xlsx\")\n",
    "results_FTY_Eto_vs_FTY = pd.read_excel(\"/Users/mortezaabyadeh/Desktop/results_FTY_Eto_vs_FTY.xlsx\")\n",
    "normalized_count = pd.read_excel(\"/Users/mortezaabyadeh/Desktop/normalized_counts.xlsx\")\n",
    "counts = pd.read_excel(\"/Users/mortezaabyadeh/Desktop/gene_count.xlsx\")"
   ]
  },
  {
   "cell_type": "code",
   "execution_count": 4,
   "id": "414ea539",
   "metadata": {},
   "outputs": [],
   "source": [
    "normalized_count.columns = ['N_' + col if col != 'gene' else col for col in normalized_count.columns]"
   ]
  },
  {
   "cell_type": "code",
   "execution_count": 5,
   "id": "8bbd6017",
   "metadata": {},
   "outputs": [],
   "source": [
    "ctrl_columns = counts[[\"HS_1\", \"HS_2\", \"HS_3\"]]\n",
    "eto_columns = counts[[\"HS_4\", \"HS_5\", \"HS_6\"]]\n",
    "fty_columns = counts[[\"HS_10\", \"HS_11\", \"HS_12\"]]\n",
    "fty_eto_columns = counts[[\"HS_16\", \"HS_17\", \"HS_18\"]]\n",
    "normalized_ctrl_columns = normalized_count[[\"N_HS_1\", \"N_HS_2\", \"N_HS_3\"]]\n",
    "normalized_eto_columns = normalized_count[[\"N_HS_4\", \"N_HS_5\", \"N_HS_6\"]]\n",
    "normalized_fty_columns = normalized_count[[\"N_HS_10\", \"N_HS_11\", \"N_HS_12\"]]\n",
    "normalized_fty_eto_columns = normalized_count[[\"N_HS_16\", \"N_HS_17\", \"N_HS_18\"]]\n",
    "gene_column = counts[[\"gene\"]]\n",
    "n_gene_column= normalized_count[[\"gene\"]]"
   ]
  },
  {
   "cell_type": "code",
   "execution_count": 6,
   "id": "78ce814f",
   "metadata": {},
   "outputs": [],
   "source": [
    "counts_subset1 = pd.concat([gene_column, ctrl_columns, eto_columns], axis=1)\n",
    "counts_subset2 = pd.concat([gene_column, ctrl_columns, fty_columns], axis=1)\n",
    "counts_subset3 = pd.concat([gene_column, ctrl_columns, fty_eto_columns], axis=1)\n",
    "counts_subset4 = pd.concat([gene_column, eto_columns, fty_columns], axis=1)\n",
    "counts_subset5 = pd.concat([gene_column, eto_columns, fty_eto_columns], axis=1)\n",
    "counts_subset6 = pd.concat([gene_column, fty_columns, fty_columns], axis=1)\n",
    "\n",
    "n_counts_subset1 = pd.concat([n_gene_column, normalized_ctrl_columns, normalized_eto_columns], axis=1)\n",
    "n_counts_subset2 = pd.concat([n_gene_column, normalized_ctrl_columns, normalized_fty_columns], axis=1)\n",
    "n_counts_subset3 = pd.concat([n_gene_column, normalized_ctrl_columns, normalized_fty_eto_columns], axis=1)\n",
    "n_counts_subset4 = pd.concat([n_gene_column, normalized_eto_columns, normalized_fty_columns], axis=1)\n",
    "n_counts_subset5 = pd.concat([n_gene_column, normalized_eto_columns, normalized_fty_eto_columns], axis=1)\n",
    "n_counts_subset6 = pd.concat([n_gene_column, normalized_fty_columns, normalized_fty_eto_columns], axis=1)"
   ]
  },
  {
   "cell_type": "code",
   "execution_count": 7,
   "id": "992a3ce5",
   "metadata": {},
   "outputs": [],
   "source": [
    "results_Eto_vs_CTRL = pd.merge(results_Eto_vs_CTRL, counts_subset1, on=\"gene\")\n",
    "results_Eto_vs_CTRL = pd.merge(results_Eto_vs_CTRL, n_counts_subset1, on=\"gene\")\n",
    "results_Eto_vs_CTRL = results_Eto_vs_CTRL[[\"gene\"] + [col for col in results_Eto_vs_CTRL.columns if col != \"gene\"]]\n",
    "\n",
    "results_FTY_vs_CTRL = pd.merge(results_FTY_vs_CTRL, counts_subset2, on=\"gene\")\n",
    "results_FTY_vs_CTRL = pd.merge(results_FTY_vs_CTRL, n_counts_subset2, on=\"gene\")\n",
    "results_FTY_vs_CTRL = results_FTY_vs_CTRL[[\"gene\"] + [col for col in results_FTY_vs_CTRL.columns if col != \"gene\"]]\n",
    "\n",
    "results_FTY_Eto_vs_CTRL = pd.merge(results_FTY_Eto_vs_CTRL, counts_subset3, on=\"gene\")\n",
    "results_FTY_Eto_vs_CTRL = pd.merge(results_FTY_Eto_vs_CTRL, n_counts_subset3, on=\"gene\")\n",
    "results_FTY_Eto_vs_CTRL = results_FTY_Eto_vs_CTRL[[\"gene\"] + [col for col in results_FTY_Eto_vs_CTRL.columns if col != \"gene\"]]\n",
    "\n",
    "results_FTY_vs_Eto = pd.merge(results_FTY_vs_Eto, counts_subset4, on=\"gene\")\n",
    "results_FTY_vs_Eto = pd.merge(results_FTY_vs_Eto, n_counts_subset4, on=\"gene\")\n",
    "results_FTY_vs_Eto = results_FTY_vs_Eto[[\"gene\"] + [col for col in results_FTY_vs_Eto.columns if col != \"gene\"]]\n",
    "\n",
    "results_FTY_Eto_vs_Eto = pd.merge(results_FTY_Eto_vs_Eto, counts_subset5, on=\"gene\")\n",
    "results_FTY_Eto_vs_Eto = pd.merge(results_FTY_Eto_vs_Eto, n_counts_subset5, on=\"gene\")\n",
    "results_FTY_Eto_vs_Eto = results_FTY_Eto_vs_Eto[[\"gene\"] + [col for col in results_FTY_Eto_vs_Eto.columns if col != \"gene\"]]\n",
    "\n",
    "results_FTY_Eto_vs_FTY = pd.merge(results_FTY_Eto_vs_FTY, counts_subset6, on=\"gene\")\n",
    "results_FTY_Eto_vs_FTY = pd.merge(results_FTY_Eto_vs_FTY, n_counts_subset6, on=\"gene\")\n",
    "results_FTY_Eto_vs_FTY = results_FTY_Eto_vs_FTY[[\"gene\"] + [col for col in results_FTY_Eto_vs_FTY.columns if col != \"gene\"]]\n"
   ]
  },
  {
   "cell_type": "code",
   "execution_count": 10,
   "id": "24e5c637",
   "metadata": {},
   "outputs": [],
   "source": [
    "results_Eto_vs_CTRL.to_excel(\"/Users/mortezaabyadeh/Desktop/results_Eto_vs_CTRL_merged.xlsx\", index=False)\n",
    "results_FTY_vs_CTRL.to_excel(\"/Users/mortezaabyadeh/Desktop/results_FTY_vs_CTRL_merged.xlsx\", index=False)\n",
    "results_FTY_Eto_vs_CTRL.to_excel(\"/Users/mortezaabyadeh/Desktop/results_FTY_Eto_vs_CTRL_merged.xlsx\", index=False)\n",
    "results_FTY_vs_Eto.to_excel(\"/Users/mortezaabyadeh/Desktop/results_FTY_vs_Eto_merged.xlsx\", index=False)\n",
    "results_FTY_Eto_vs_Eto.to_excel(\"/Users/mortezaabyadeh/Desktop/results_FTY_Eto_vs_Eto_merged.xlsx\", index=False)\n",
    "results_FTY_Eto_vs_FTY.to_excel(\"/Users/mortezaabyadeh/Desktop/results_FTY_Eto_vs_FTY_merged.xlsx\", index=False)"
   ]
  }
 ],
 "metadata": {
  "kernelspec": {
   "display_name": "Python 3 (ipykernel)",
   "language": "python",
   "name": "python3"
  },
  "language_info": {
   "codemirror_mode": {
    "name": "ipython",
    "version": 3
   },
   "file_extension": ".py",
   "mimetype": "text/x-python",
   "name": "python",
   "nbconvert_exporter": "python",
   "pygments_lexer": "ipython3",
   "version": "3.9.13"
  }
 },
 "nbformat": 4,
 "nbformat_minor": 5
}
